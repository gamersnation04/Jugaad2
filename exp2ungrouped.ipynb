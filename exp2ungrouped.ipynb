{
 "cells": [
  {
   "cell_type": "code",
   "execution_count": 18,
   "id": "5114c603-a11d-42ff-9e0b-73c4ad9ba968",
   "metadata": {},
   "outputs": [],
   "source": [
    "import pandas as pd\n",
    "from statistics import variance\n",
    "from statistics import stdev"
   ]
  },
  {
   "cell_type": "code",
   "execution_count": 19,
   "id": "6106c61f-2b3d-42c6-b720-167cb65f29c1",
   "metadata": {},
   "outputs": [],
   "source": [
    "data = pd.read_csv('ATTENDANCE1.csv')"
   ]
  },
  {
   "cell_type": "code",
   "execution_count": 20,
   "id": "7ad43a58-4170-4884-bd1a-d53fbd31cef1",
   "metadata": {},
   "outputs": [
    {
     "name": "stdout",
     "output_type": "stream",
     "text": [
      "Mean: 21.35\n",
      "Mode: 16 (Frequency: 2 )\n",
      "Median: 22.0\n",
      "Range: 35\n",
      "Variance: 114.5275\n",
      "Skewness: -0.2163324342532372\n"
     ]
    }
   ],
   "source": [
    "import pandas as pd\n",
    "import numpy as np\n",
    "from scipy import stats\n",
    "\n",
    "# Load the dataset from CSV\n",
    "df = pd.read_csv(\"ATTENDANCE1.csv\")\n",
    "\n",
    "# Calculate the total score for each student\n",
    "df['TOTAL'] = df[['ADS', 'SMA', 'DC', 'EM']].sum(axis=1)\n",
    "\n",
    "# Get the scores as a NumPy array\n",
    "scores = df['TOTAL'].values\n",
    "\n",
    "# Mean\n",
    "mean = np.mean(scores)\n",
    "\n",
    "# Mode\n",
    "mode = stats.mode(scores)\n",
    "\n",
    "# Median\n",
    "median = np.median(scores)\n",
    "\n",
    "# Range\n",
    "range_score = np.max(scores) - np.min(scores)\n",
    "\n",
    "# Variance\n",
    "variance = np.var(scores)\n",
    "\n",
    "# Skewness\n",
    "skewness = stats.skew(scores)\n",
    "\n",
    "print(\"Mean:\", mean)\n",
    "if isinstance(mode.mode, np.ndarray):\n",
    "    print(\"Mode:\", mode.mode[0], \"(Frequency:\", mode.count[0], \")\")\n",
    "else:\n",
    "    print(\"Mode:\", mode.mode, \"(Frequency:\", mode.count, \")\")\n",
    "print(\"Median:\", median)\n",
    "print(\"Range:\", range_score)\n",
    "print(\"Variance:\", variance)\n",
    "print(\"Skewness:\", skewness)\n"
   ]
  }
 ],
 "metadata": {
  "kernelspec": {
   "display_name": "Python 3 (ipykernel)",
   "language": "python",
   "name": "python3"
  },
  "language_info": {
   "codemirror_mode": {
    "name": "ipython",
    "version": 3
   },
   "file_extension": ".py",
   "mimetype": "text/x-python",
   "name": "python",
   "nbconvert_exporter": "python",
   "pygments_lexer": "ipython3",
   "version": "3.11.2"
  }
 },
 "nbformat": 4,
 "nbformat_minor": 5
}
